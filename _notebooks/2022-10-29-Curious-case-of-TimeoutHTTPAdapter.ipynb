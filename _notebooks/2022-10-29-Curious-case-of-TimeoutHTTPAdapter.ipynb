{
 "cells": [
  {
   "cell_type": "markdown",
   "source": [
    "# \"A curious case of `requests.get`\"\n",
    "> \"Python Crawler\"\n",
    "\n",
    "- toc: true\n",
    "- branch: master\n",
    "- badges: true\n",
    "- comments: true\n",
    "- categories: [python, crawler]"
   ],
   "metadata": {
    "collapsed": false
   }
  },
  {
   "cell_type": "markdown",
   "source": [
    "It is quite easy to write a basic crawler with `Python`"
   ],
   "metadata": {
    "collapsed": false
   }
  },
  {
   "cell_type": "code",
   "execution_count": null,
   "outputs": [],
   "source": [
    "import requests\n",
    "requests.get(\"https://google.com\")"
   ],
   "metadata": {
    "collapsed": false
   }
  },
  {
   "cell_type": "markdown",
   "source": [
    "The Internet is full of broken promises(cough cough) and dead links, and in a production environment it is not enough"
   ],
   "metadata": {
    "collapsed": false
   }
  },
  {
   "cell_type": "markdown",
   "source": [
    "After Googling & iterating a few times, I came up with this one."
   ],
   "metadata": {
    "collapsed": false
   }
  },
  {
   "cell_type": "code",
   "execution_count": null,
   "outputs": [],
   "source": [
    "DEFAULT_TIMEOUT = 10\n",
    "from requests.adapters import HTTPAdapter\n",
    "from urllib3.util.retry import Retry\n",
    "class TimeoutHTTPAdapter(HTTPAdapter):\n",
    "    def __init__(self, *args, **kwargs):\n",
    "        self.timeout = DEFAULT_TIMEOUT\n",
    "        if \"timeout\" in kwargs:\n",
    "            self.timeout = kwargs[\"timeout\"]\n",
    "            del kwargs[\"timeout\"]\n",
    "        super().__init__(*args, **kwargs)\n",
    "\n",
    "    def send(self, request, **kwargs):\n",
    "        timeout = kwargs.get(\"timeout\")\n",
    "        if timeout is None:\n",
    "            kwargs[\"timeout\"] = self.timeout\n",
    "        return super().send(request, **kwargs)\n",
    "\n",
    "\n",
    "def get_http_session(timeout=DEFAULT_TIMEOUT, retry_count=1):\n",
    "    retry_strategy = Retry(\n",
    "        total=retry_count,\n",
    "        raise_on_redirect=True,\n",
    "        status_forcelist=[429, 500, 502, 503, 504],\n",
    "        allowed_methods=[\"HEAD\", \"GET\", \"OPTIONS\"]\n",
    "    )\n",
    "    session = requests.Session()\n",
    "    adapter = TimeoutHTTPAdapter(timeout=timeout, max_retries=retry_strategy)\n",
    "    session.mount(\"https://\", adapter)\n",
    "    session.mount(\"http://\", adapter)\n",
    "    return session"
   ],
   "metadata": {
    "collapsed": false
   }
  },
  {
   "cell_type": "code",
   "execution_count": null,
   "outputs": [],
   "source": [
    "get_http_session(timeout=3, retry_count=3).get(\"https://google.com\")"
   ],
   "metadata": {
    "collapsed": false
   }
  },
  {
   "cell_type": "markdown",
   "source": [
    "But in reality, there are `urllib`'s timeout is not honored in a few cases.\n",
    "![600secs](https://raw.githubusercontent.com/appswithcode/notebooks2/master/_notebooks/images/600secs.png)\n",
    "\n",
    "It turns out that during the retry process, if the urllib receives `Retry-After` response header from the server,\n",
    "it will try to honor that header and wait for the advertised amount."
   ],
   "metadata": {
    "collapsed": false
   }
  },
  {
   "cell_type": "code",
   "execution_count": null,
   "outputs": [],
   "source": [],
   "metadata": {
    "collapsed": false
   }
  },
  {
   "cell_type": "code",
   "execution_count": null,
   "outputs": [],
   "source": [],
   "metadata": {
    "collapsed": false
   }
  },
  {
   "cell_type": "code",
   "execution_count": null,
   "outputs": [],
   "source": [
    "    def sleep(self, response=None):\n",
    "    \"\"\"Sleep between retry attempts.\n",
    "\n",
    "    This method will respect a server's ``Retry-After`` response header\n",
    "    and sleep the duration of the time requested. If that is not present, it\n",
    "    will use an exponential backoff. By default, the backoff factor is 0 and\n",
    "    this method will return immediately.\n",
    "    \"\"\"\n",
    "\n",
    "    if self.respect_retry_after_header and response:\n",
    "        slept = self.sleep_for_retry(response)\n",
    "        if slept:\n",
    "            return\n",
    "\n",
    "    self._sleep_backoff()"
   ],
   "metadata": {
    "collapsed": false
   }
  },
  {
   "cell_type": "markdown",
   "source": [
    "In my case, that the server was trying to let my crawler `Retry-After` 600 seconds, and urllib was honoring that header by default.\n",
    "\n",
    "I fixed my code by adding `respect_retry_after_header=False` to the Retry instance.\n"
   ],
   "metadata": {
    "collapsed": false
   }
  },
  {
   "cell_type": "code",
   "execution_count": null,
   "outputs": [],
   "source": [
    "retry_strategy = Retry(\n",
    "    total=retry_count,\n",
    "    raise_on_redirect=True,\n",
    "    status_forcelist=[429, 500, 502, 503, 504],\n",
    "    respect_retry_after_header=False,\n",
    "    allowed_methods=[\"HEAD\", \"GET\", \"OPTIONS\"]\n",
    ")"
   ],
   "metadata": {
    "collapsed": false
   }
  },
  {
   "cell_type": "code",
   "execution_count": null,
   "outputs": [],
   "source": [],
   "metadata": {
    "collapsed": false
   }
  }
 ],
 "metadata": {
  "kernelspec": {
   "display_name": "Python 3",
   "language": "python",
   "name": "python3"
  },
  "language_info": {
   "codemirror_mode": {
    "name": "ipython",
    "version": 2
   },
   "file_extension": ".py",
   "mimetype": "text/x-python",
   "name": "python",
   "nbconvert_exporter": "python",
   "pygments_lexer": "ipython2",
   "version": "2.7.6"
  }
 },
 "nbformat": 4,
 "nbformat_minor": 0
}
