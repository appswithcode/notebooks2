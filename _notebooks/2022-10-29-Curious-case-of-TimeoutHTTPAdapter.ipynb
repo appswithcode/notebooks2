{
 "cells": [
  {
   "cell_type": "code",
   "execution_count": null,
   "outputs": [],
   "source": [
    "# Fastpages Notebook Blog Post\n",
    "> Curious case of TimeoutHTTPAdapter\n",
    "\n",
    "\n",
    "- toc: true\n",
    "- hide: false\n",
    "- badges: true\n",
    "- comments: true\n",
    "- categories: [Jupyter]"
   ],
   "metadata": {
    "collapsed": false
   }
  },
  {
   "cell_type": "markdown",
   "source": [
    "Test test `Python`\n"
   ],
   "metadata": {
    "collapsed": false
   }
  }
 ],
 "metadata": {
  "kernelspec": {
   "display_name": "Python 3",
   "language": "python",
   "name": "python3"
  },
  "language_info": {
   "codemirror_mode": {
    "name": "ipython",
    "version": 2
   },
   "file_extension": ".py",
   "mimetype": "text/x-python",
   "name": "python",
   "nbconvert_exporter": "python",
   "pygments_lexer": "ipython2",
   "version": "2.7.6"
  }
 },
 "nbformat": 4,
 "nbformat_minor": 0
}
